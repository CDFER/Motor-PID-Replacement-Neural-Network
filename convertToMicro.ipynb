{
 "cells": [
  {
   "cell_type": "markdown",
   "metadata": {},
   "source": [
    "# Requires Python >=3.7, <3.10"
   ]
  },
  {
   "cell_type": "code",
   "execution_count": 1,
   "metadata": {},
   "outputs": [
    {
     "name": "stdout",
     "output_type": "stream",
     "text": [
      "Requirement already satisfied: pip in c:\\users\\taranaki\\documents\\github\\motor pid replacement neural network\\.39venv\\lib\\site-packages (24.0)\n",
      "Note: you may need to restart the kernel to use updated packages.\n",
      "Requirement already satisfied: numpy==1.26.3 in c:\\users\\taranaki\\documents\\github\\motor pid replacement neural network\\.39venv\\lib\\site-packages (1.26.3)\n",
      "Note: you may need to restart the kernel to use updated packages.\n",
      "Requirement already satisfied: pandas==2.2.2 in c:\\users\\taranaki\\documents\\github\\motor pid replacement neural network\\.39venv\\lib\\site-packages (2.2.2)\n",
      "Requirement already satisfied: numpy>=1.22.4 in c:\\users\\taranaki\\documents\\github\\motor pid replacement neural network\\.39venv\\lib\\site-packages (from pandas==2.2.2) (1.26.3)\n",
      "Requirement already satisfied: python-dateutil>=2.8.2 in c:\\users\\taranaki\\documents\\github\\motor pid replacement neural network\\.39venv\\lib\\site-packages (from pandas==2.2.2) (2.9.0.post0)\n",
      "Requirement already satisfied: pytz>=2020.1 in c:\\users\\taranaki\\documents\\github\\motor pid replacement neural network\\.39venv\\lib\\site-packages (from pandas==2.2.2) (2024.1)\n",
      "Requirement already satisfied: tzdata>=2022.7 in c:\\users\\taranaki\\documents\\github\\motor pid replacement neural network\\.39venv\\lib\\site-packages (from pandas==2.2.2) (2024.1)\n",
      "Requirement already satisfied: six>=1.5 in c:\\users\\taranaki\\documents\\github\\motor pid replacement neural network\\.39venv\\lib\\site-packages (from python-dateutil>=2.8.2->pandas==2.2.2) (1.16.0)\n",
      "Note: you may need to restart the kernel to use updated packages.\n",
      "Requirement already satisfied: matplotlib==3.9.0 in c:\\users\\taranaki\\documents\\github\\motor pid replacement neural network\\.39venv\\lib\\site-packages (3.9.0)\n",
      "Requirement already satisfied: contourpy>=1.0.1 in c:\\users\\taranaki\\documents\\github\\motor pid replacement neural network\\.39venv\\lib\\site-packages (from matplotlib==3.9.0) (1.2.1)\n",
      "Requirement already satisfied: cycler>=0.10 in c:\\users\\taranaki\\documents\\github\\motor pid replacement neural network\\.39venv\\lib\\site-packages (from matplotlib==3.9.0) (0.12.1)\n",
      "Requirement already satisfied: fonttools>=4.22.0 in c:\\users\\taranaki\\documents\\github\\motor pid replacement neural network\\.39venv\\lib\\site-packages (from matplotlib==3.9.0) (4.52.1)\n",
      "Requirement already satisfied: kiwisolver>=1.3.1 in c:\\users\\taranaki\\documents\\github\\motor pid replacement neural network\\.39venv\\lib\\site-packages (from matplotlib==3.9.0) (1.4.5)\n",
      "Requirement already satisfied: numpy>=1.23 in c:\\users\\taranaki\\documents\\github\\motor pid replacement neural network\\.39venv\\lib\\site-packages (from matplotlib==3.9.0) (1.26.3)\n",
      "Requirement already satisfied: packaging>=20.0 in c:\\users\\taranaki\\documents\\github\\motor pid replacement neural network\\.39venv\\lib\\site-packages (from matplotlib==3.9.0) (24.0)\n",
      "Requirement already satisfied: pillow>=8 in c:\\users\\taranaki\\documents\\github\\motor pid replacement neural network\\.39venv\\lib\\site-packages (from matplotlib==3.9.0) (10.3.0)\n",
      "Requirement already satisfied: pyparsing>=2.3.1 in c:\\users\\taranaki\\documents\\github\\motor pid replacement neural network\\.39venv\\lib\\site-packages (from matplotlib==3.9.0) (3.1.2)\n",
      "Requirement already satisfied: python-dateutil>=2.7 in c:\\users\\taranaki\\documents\\github\\motor pid replacement neural network\\.39venv\\lib\\site-packages (from matplotlib==3.9.0) (2.9.0.post0)\n",
      "Requirement already satisfied: importlib-resources>=3.2.0 in c:\\users\\taranaki\\documents\\github\\motor pid replacement neural network\\.39venv\\lib\\site-packages (from matplotlib==3.9.0) (6.4.0)\n",
      "Requirement already satisfied: zipp>=3.1.0 in c:\\users\\taranaki\\documents\\github\\motor pid replacement neural network\\.39venv\\lib\\site-packages (from importlib-resources>=3.2.0->matplotlib==3.9.0) (3.19.0)\n",
      "Requirement already satisfied: six>=1.5 in c:\\users\\taranaki\\documents\\github\\motor pid replacement neural network\\.39venv\\lib\\site-packages (from python-dateutil>=2.7->matplotlib==3.9.0) (1.16.0)\n",
      "Note: you may need to restart the kernel to use updated packages.\n",
      "Looking in indexes: https://download.pytorch.org/whl/cu121\n",
      "Requirement already satisfied: torch==2.3.0+cu121 in c:\\users\\taranaki\\documents\\github\\motor pid replacement neural network\\.39venv\\lib\\site-packages (2.3.0+cu121)\n",
      "Requirement already satisfied: torchvision==0.18.0+cu121 in c:\\users\\taranaki\\documents\\github\\motor pid replacement neural network\\.39venv\\lib\\site-packages (0.18.0+cu121)\n",
      "Requirement already satisfied: torchaudio==2.3.0+cu121 in c:\\users\\taranaki\\documents\\github\\motor pid replacement neural network\\.39venv\\lib\\site-packages (2.3.0+cu121)\n",
      "Requirement already satisfied: filelock in c:\\users\\taranaki\\documents\\github\\motor pid replacement neural network\\.39venv\\lib\\site-packages (from torch==2.3.0+cu121) (3.14.0)\n",
      "Requirement already satisfied: typing-extensions>=4.8.0 in c:\\users\\taranaki\\documents\\github\\motor pid replacement neural network\\.39venv\\lib\\site-packages (from torch==2.3.0+cu121) (4.12.0)\n",
      "Requirement already satisfied: sympy in c:\\users\\taranaki\\documents\\github\\motor pid replacement neural network\\.39venv\\lib\\site-packages (from torch==2.3.0+cu121) (1.12)\n",
      "Requirement already satisfied: networkx in c:\\users\\taranaki\\documents\\github\\motor pid replacement neural network\\.39venv\\lib\\site-packages (from torch==2.3.0+cu121) (3.2.1)\n",
      "Requirement already satisfied: jinja2 in c:\\users\\taranaki\\documents\\github\\motor pid replacement neural network\\.39venv\\lib\\site-packages (from torch==2.3.0+cu121) (3.1.4)\n",
      "Requirement already satisfied: fsspec in c:\\users\\taranaki\\documents\\github\\motor pid replacement neural network\\.39venv\\lib\\site-packages (from torch==2.3.0+cu121) (2024.5.0)\n",
      "Requirement already satisfied: mkl<=2021.4.0,>=2021.1.1 in c:\\users\\taranaki\\documents\\github\\motor pid replacement neural network\\.39venv\\lib\\site-packages (from torch==2.3.0+cu121) (2021.4.0)\n",
      "Requirement already satisfied: numpy in c:\\users\\taranaki\\documents\\github\\motor pid replacement neural network\\.39venv\\lib\\site-packages (from torchvision==0.18.0+cu121) (1.26.3)\n",
      "Requirement already satisfied: pillow!=8.3.*,>=5.3.0 in c:\\users\\taranaki\\documents\\github\\motor pid replacement neural network\\.39venv\\lib\\site-packages (from torchvision==0.18.0+cu121) (10.3.0)\n",
      "Requirement already satisfied: intel-openmp==2021.* in c:\\users\\taranaki\\documents\\github\\motor pid replacement neural network\\.39venv\\lib\\site-packages (from mkl<=2021.4.0,>=2021.1.1->torch==2.3.0+cu121) (2021.4.0)\n",
      "Requirement already satisfied: tbb==2021.* in c:\\users\\taranaki\\documents\\github\\motor pid replacement neural network\\.39venv\\lib\\site-packages (from mkl<=2021.4.0,>=2021.1.1->torch==2.3.0+cu121) (2021.12.0)\n",
      "Requirement already satisfied: MarkupSafe>=2.0 in c:\\users\\taranaki\\documents\\github\\motor pid replacement neural network\\.39venv\\lib\\site-packages (from jinja2->torch==2.3.0+cu121) (2.1.5)\n",
      "Requirement already satisfied: mpmath>=0.19 in c:\\users\\taranaki\\documents\\github\\motor pid replacement neural network\\.39venv\\lib\\site-packages (from sympy->torch==2.3.0+cu121) (1.3.0)\n",
      "Note: you may need to restart the kernel to use updated packages.\n",
      "Requirement already satisfied: AIfES-Converter[pytorch] in c:\\users\\taranaki\\documents\\github\\motor pid replacement neural network\\.39venv\\lib\\site-packages (1.0.0)\n",
      "Requirement already satisfied: numpy>=1.19 in c:\\users\\taranaki\\documents\\github\\motor pid replacement neural network\\.39venv\\lib\\site-packages (from AIfES-Converter[pytorch]) (1.26.3)\n",
      "Requirement already satisfied: packaging in c:\\users\\taranaki\\documents\\github\\motor pid replacement neural network\\.39venv\\lib\\site-packages (from AIfES-Converter[pytorch]) (24.0)\n",
      "Requirement already satisfied: torch>=1.8 in c:\\users\\taranaki\\documents\\github\\motor pid replacement neural network\\.39venv\\lib\\site-packages (from AIfES-Converter[pytorch]) (2.3.0+cu121)\n",
      "Requirement already satisfied: filelock in c:\\users\\taranaki\\documents\\github\\motor pid replacement neural network\\.39venv\\lib\\site-packages (from torch>=1.8->AIfES-Converter[pytorch]) (3.14.0)\n",
      "Requirement already satisfied: typing-extensions>=4.8.0 in c:\\users\\taranaki\\documents\\github\\motor pid replacement neural network\\.39venv\\lib\\site-packages (from torch>=1.8->AIfES-Converter[pytorch]) (4.12.0)\n",
      "Requirement already satisfied: sympy in c:\\users\\taranaki\\documents\\github\\motor pid replacement neural network\\.39venv\\lib\\site-packages (from torch>=1.8->AIfES-Converter[pytorch]) (1.12)\n",
      "Requirement already satisfied: networkx in c:\\users\\taranaki\\documents\\github\\motor pid replacement neural network\\.39venv\\lib\\site-packages (from torch>=1.8->AIfES-Converter[pytorch]) (3.2.1)\n",
      "Requirement already satisfied: jinja2 in c:\\users\\taranaki\\documents\\github\\motor pid replacement neural network\\.39venv\\lib\\site-packages (from torch>=1.8->AIfES-Converter[pytorch]) (3.1.4)\n",
      "Requirement already satisfied: fsspec in c:\\users\\taranaki\\documents\\github\\motor pid replacement neural network\\.39venv\\lib\\site-packages (from torch>=1.8->AIfES-Converter[pytorch]) (2024.5.0)\n",
      "Requirement already satisfied: mkl<=2021.4.0,>=2021.1.1 in c:\\users\\taranaki\\documents\\github\\motor pid replacement neural network\\.39venv\\lib\\site-packages (from torch>=1.8->AIfES-Converter[pytorch]) (2021.4.0)\n",
      "Requirement already satisfied: intel-openmp==2021.* in c:\\users\\taranaki\\documents\\github\\motor pid replacement neural network\\.39venv\\lib\\site-packages (from mkl<=2021.4.0,>=2021.1.1->torch>=1.8->AIfES-Converter[pytorch]) (2021.4.0)\n",
      "Requirement already satisfied: tbb==2021.* in c:\\users\\taranaki\\documents\\github\\motor pid replacement neural network\\.39venv\\lib\\site-packages (from mkl<=2021.4.0,>=2021.1.1->torch>=1.8->AIfES-Converter[pytorch]) (2021.12.0)\n",
      "Requirement already satisfied: MarkupSafe>=2.0 in c:\\users\\taranaki\\documents\\github\\motor pid replacement neural network\\.39venv\\lib\\site-packages (from jinja2->torch>=1.8->AIfES-Converter[pytorch]) (2.1.5)\n",
      "Requirement already satisfied: mpmath>=0.19 in c:\\users\\taranaki\\documents\\github\\motor pid replacement neural network\\.39venv\\lib\\site-packages (from sympy->torch>=1.8->AIfES-Converter[pytorch]) (1.3.0)\n",
      "Note: you may need to restart the kernel to use updated packages.\n"
     ]
    }
   ],
   "source": [
    "%pip install --upgrade pip\n",
    "%pip install numpy==1.26.3\n",
    "%pip install pandas==2.2.2\n",
    "%pip install matplotlib==3.9.0\n",
    "%pip install torch==2.3.0+cu121 torchvision==0.18.0+cu121 torchaudio==2.3.0+cu121 --index-url https://download.pytorch.org/whl/cu121\n",
    "%pip install AIfES-Converter[pytorch]"
   ]
  },
  {
   "cell_type": "code",
   "execution_count": 2,
   "metadata": {},
   "outputs": [],
   "source": [
    "import torch.nn as nn\n",
    "\n",
    "class NeuralNetwork(nn.Module):\n",
    "    def __init__(self, input_dim, hidden_dims, output_dim):\n",
    "        super().__init__()\n",
    "\n",
    "    def forward(self, x):\n",
    "        return False"
   ]
  },
  {
   "cell_type": "code",
   "execution_count": 19,
   "metadata": {},
   "outputs": [],
   "source": [
    "import torch\n",
    "from aifes import pytorch2aifes\n",
    "\n",
    "\n",
    "model_name = \"hornedviper_9k_16_256\"\n",
    "\n",
    "\n",
    "pytorch_model = torch.load(f\"trained_models/{model_name}.pth\")\n",
    "pytorch_model.to('cpu')\n",
    "pytorch2aifes.convert_to_fnn_f32_express(pytorch_model, f\"include/model\")\n",
    "\n",
    "# Create an extra header file for the model name (to print for debugging)\n",
    "with open(\"include/model/aifes_model_setup.h\", \"w\") as f:\n",
    "    f.write(\"#ifndef MODEL_CONFIG_H\\n\")\n",
    "    f.write(\"#define MODEL_CONFIG_H\\n\")\n",
    "    f.write(f\"char* model_name = \\\"{model_name}\\\";\\n\")\n",
    "    f.write(\"#endif  // MODEL_CONFIG_H\\n\")"
   ]
  }
 ],
 "metadata": {
  "kernelspec": {
   "display_name": "Python 3",
   "language": "python",
   "name": "python3"
  },
  "language_info": {
   "codemirror_mode": {
    "name": "ipython",
    "version": 3
   },
   "file_extension": ".py",
   "mimetype": "text/x-python",
   "name": "python",
   "nbconvert_exporter": "python",
   "pygments_lexer": "ipython3",
   "version": "3.9.13"
  }
 },
 "nbformat": 4,
 "nbformat_minor": 2
}
